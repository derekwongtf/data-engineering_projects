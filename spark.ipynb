{
 "cells": [
  {
   "cell_type": "code",
   "execution_count": 2,
   "id": "c7ce842d",
   "metadata": {},
   "outputs": [],
   "source": [
    "import pyspark"
   ]
  },
  {
   "cell_type": "code",
   "execution_count": 3,
   "id": "4c1e7561",
   "metadata": {},
   "outputs": [],
   "source": [
    "from pyspark.sql import SparkSession"
   ]
  },
  {
   "cell_type": "code",
   "execution_count": 4,
   "id": "c4ce684c",
   "metadata": {},
   "outputs": [
    {
     "name": "stdout",
     "output_type": "stream",
     "text": [
      "23/03/29 11:25:18 WARN Utils: Your hostname, DavidNg-8242-NB resolves to a loopback address: 127.0.1.1; using 172.24.225.125 instead (on interface eth0)\n",
      "23/03/29 11:25:18 WARN Utils: Set SPARK_LOCAL_IP if you need to bind to another address\n"
     ]
    },
    {
     "name": "stderr",
     "output_type": "stream",
     "text": [
      "Setting default log level to \"WARN\".\n",
      "To adjust logging level use sc.setLogLevel(newLevel). For SparkR, use setLogLevel(newLevel).\n"
     ]
    },
    {
     "name": "stdout",
     "output_type": "stream",
     "text": [
      "23/03/29 11:25:21 WARN NativeCodeLoader: Unable to load native-hadoop library for your platform... using builtin-java classes where applicable\n"
     ]
    }
   ],
   "source": [
    "spark = SparkSession.builder \\\n",
    "    .master(\"local[*]\") \\\n",
    "    .appName('test') \\\n",
    "    .getOrCreate()"
   ]
  },
  {
   "cell_type": "code",
   "execution_count": 5,
   "id": "32618a45",
   "metadata": {},
   "outputs": [],
   "source": [
    "import pandas as pd"
   ]
  },
  {
   "cell_type": "code",
   "execution_count": 66,
   "id": "d9dea355",
   "metadata": {},
   "outputs": [],
   "source": [
    "df = spark.read \\\n",
    "    .option(\"header\", \"true\") \\\n",
    "    .option(\"multiline\", True) \\\n",
    "    .option(\"escape\", \"\\\"\") \\\n",
    "    .csv('data/raw/china/hk/hong-kong/2022/12/listings_20221223.csv.gz')"
   ]
  },
  {
   "cell_type": "code",
   "execution_count": 67,
   "id": "957316f7",
   "metadata": {},
   "outputs": [
    {
     "data": {
      "text/html": [
       "<div>\n",
       "<style scoped>\n",
       "    .dataframe tbody tr th:only-of-type {\n",
       "        vertical-align: middle;\n",
       "    }\n",
       "\n",
       "    .dataframe tbody tr th {\n",
       "        vertical-align: top;\n",
       "    }\n",
       "\n",
       "    .dataframe thead th {\n",
       "        text-align: right;\n",
       "    }\n",
       "</style>\n",
       "<table border=\"1\" class=\"dataframe\">\n",
       "  <thead>\n",
       "    <tr style=\"text-align: right;\">\n",
       "      <th></th>\n",
       "      <th>id</th>\n",
       "      <th>listing_url</th>\n",
       "      <th>scrape_id</th>\n",
       "      <th>last_scraped</th>\n",
       "      <th>source</th>\n",
       "      <th>name</th>\n",
       "      <th>description</th>\n",
       "      <th>neighborhood_overview</th>\n",
       "      <th>picture_url</th>\n",
       "      <th>host_id</th>\n",
       "      <th>...</th>\n",
       "      <th>review_scores_communication</th>\n",
       "      <th>review_scores_location</th>\n",
       "      <th>review_scores_value</th>\n",
       "      <th>license</th>\n",
       "      <th>instant_bookable</th>\n",
       "      <th>calculated_host_listings_count</th>\n",
       "      <th>calculated_host_listings_count_entire_homes</th>\n",
       "      <th>calculated_host_listings_count_private_rooms</th>\n",
       "      <th>calculated_host_listings_count_shared_rooms</th>\n",
       "      <th>reviews_per_month</th>\n",
       "    </tr>\n",
       "  </thead>\n",
       "  <tbody>\n",
       "    <tr>\n",
       "      <th>0</th>\n",
       "      <td>17891</td>\n",
       "      <td>https://www.airbnb.com/rooms/17891</td>\n",
       "      <td>20221223064914</td>\n",
       "      <td>2022-12-23</td>\n",
       "      <td>previous scrape</td>\n",
       "      <td>Large Light Filled Loft</td>\n",
       "      <td>Gorgeous and spacious loft, in the best locati...</td>\n",
       "      <td>Best neighborhood in Hong Kong! A mix of old a...</td>\n",
       "      <td>https://a0.muscache.com/pictures/119686/6ced58...</td>\n",
       "      <td>69063</td>\n",
       "      <td>...</td>\n",
       "      <td>4.93</td>\n",
       "      <td>4.9</td>\n",
       "      <td>4.66</td>\n",
       "      <td>None</td>\n",
       "      <td>f</td>\n",
       "      <td>1</td>\n",
       "      <td>1</td>\n",
       "      <td>0</td>\n",
       "      <td>0</td>\n",
       "      <td>0.47</td>\n",
       "    </tr>\n",
       "    <tr>\n",
       "      <th>1</th>\n",
       "      <td>72571</td>\n",
       "      <td>https://www.airbnb.com/rooms/72571</td>\n",
       "      <td>20221223064914</td>\n",
       "      <td>2022-12-23</td>\n",
       "      <td>city scrape</td>\n",
       "      <td>SoHo off Hollywood Road 3A</td>\n",
       "      <td>Located steps from Hollywood road, with new ea...</td>\n",
       "      <td>None</td>\n",
       "      <td>https://a0.muscache.com/pictures/2849554/d2262...</td>\n",
       "      <td>304876</td>\n",
       "      <td>...</td>\n",
       "      <td>4.51</td>\n",
       "      <td>4.73</td>\n",
       "      <td>4.13</td>\n",
       "      <td>None</td>\n",
       "      <td>f</td>\n",
       "      <td>10</td>\n",
       "      <td>6</td>\n",
       "      <td>4</td>\n",
       "      <td>0</td>\n",
       "      <td>1.05</td>\n",
       "    </tr>\n",
       "    <tr>\n",
       "      <th>2</th>\n",
       "      <td>923017</td>\n",
       "      <td>https://www.airbnb.com/rooms/923017</td>\n",
       "      <td>20221223064914</td>\n",
       "      <td>2022-12-23</td>\n",
       "      <td>city scrape</td>\n",
       "      <td>Comfort Home in Prince Edward Mtr 4 beds</td>\n",
       "      <td>A  newly renovated apartment located in the ci...</td>\n",
       "      <td>Disneyland  Discount ticket&lt;br /&gt;Ocean Park Di...</td>\n",
       "      <td>https://a0.muscache.com/pictures/f3913158-fa84...</td>\n",
       "      <td>4971086</td>\n",
       "      <td>...</td>\n",
       "      <td>4.85</td>\n",
       "      <td>4.86</td>\n",
       "      <td>4.75</td>\n",
       "      <td>None</td>\n",
       "      <td>t</td>\n",
       "      <td>2</td>\n",
       "      <td>2</td>\n",
       "      <td>0</td>\n",
       "      <td>0</td>\n",
       "      <td>3.03</td>\n",
       "    </tr>\n",
       "    <tr>\n",
       "      <th>3</th>\n",
       "      <td>944283</td>\n",
       "      <td>https://www.airbnb.com/rooms/944283</td>\n",
       "      <td>20221223064914</td>\n",
       "      <td>2022-12-23</td>\n",
       "      <td>city scrape</td>\n",
       "      <td>2 Bed Rooms heart of Central SOHO( sleeps 3)</td>\n",
       "      <td>Soho, best Location in Central. Hong Kong.&lt;br ...</td>\n",
       "      <td>Amazing location on Wellington street in Centr...</td>\n",
       "      <td>https://a0.muscache.com/pictures/9ade4292-c83a...</td>\n",
       "      <td>5100812</td>\n",
       "      <td>...</td>\n",
       "      <td>4.72</td>\n",
       "      <td>4.85</td>\n",
       "      <td>4.57</td>\n",
       "      <td>None</td>\n",
       "      <td>f</td>\n",
       "      <td>2</td>\n",
       "      <td>1</td>\n",
       "      <td>1</td>\n",
       "      <td>0</td>\n",
       "      <td>0.61</td>\n",
       "    </tr>\n",
       "    <tr>\n",
       "      <th>4</th>\n",
       "      <td>956857</td>\n",
       "      <td>https://www.airbnb.com/rooms/956857</td>\n",
       "      <td>20221223064914</td>\n",
       "      <td>2022-12-23</td>\n",
       "      <td>city scrape</td>\n",
       "      <td>large Room- Heart of Soho/Central</td>\n",
       "      <td>Awesome Location  in Central.&lt;br /&gt;Clean large...</td>\n",
       "      <td>None</td>\n",
       "      <td>https://a0.muscache.com/pictures/3ab4ff36-81de...</td>\n",
       "      <td>5100812</td>\n",
       "      <td>...</td>\n",
       "      <td>5.0</td>\n",
       "      <td>5.0</td>\n",
       "      <td>5.0</td>\n",
       "      <td>None</td>\n",
       "      <td>f</td>\n",
       "      <td>2</td>\n",
       "      <td>1</td>\n",
       "      <td>1</td>\n",
       "      <td>0</td>\n",
       "      <td>0.04</td>\n",
       "    </tr>\n",
       "  </tbody>\n",
       "</table>\n",
       "<p>5 rows × 75 columns</p>\n",
       "</div>"
      ],
      "text/plain": [
       "       id                          listing_url       scrape_id last_scraped  \\\n",
       "0   17891   https://www.airbnb.com/rooms/17891  20221223064914   2022-12-23   \n",
       "1   72571   https://www.airbnb.com/rooms/72571  20221223064914   2022-12-23   \n",
       "2  923017  https://www.airbnb.com/rooms/923017  20221223064914   2022-12-23   \n",
       "3  944283  https://www.airbnb.com/rooms/944283  20221223064914   2022-12-23   \n",
       "4  956857  https://www.airbnb.com/rooms/956857  20221223064914   2022-12-23   \n",
       "\n",
       "            source                                          name  \\\n",
       "0  previous scrape                       Large Light Filled Loft   \n",
       "1      city scrape                    SoHo off Hollywood Road 3A   \n",
       "2      city scrape      Comfort Home in Prince Edward Mtr 4 beds   \n",
       "3      city scrape  2 Bed Rooms heart of Central SOHO( sleeps 3)   \n",
       "4      city scrape             large Room- Heart of Soho/Central   \n",
       "\n",
       "                                         description  \\\n",
       "0  Gorgeous and spacious loft, in the best locati...   \n",
       "1  Located steps from Hollywood road, with new ea...   \n",
       "2  A  newly renovated apartment located in the ci...   \n",
       "3  Soho, best Location in Central. Hong Kong.<br ...   \n",
       "4  Awesome Location  in Central.<br />Clean large...   \n",
       "\n",
       "                               neighborhood_overview  \\\n",
       "0  Best neighborhood in Hong Kong! A mix of old a...   \n",
       "1                                               None   \n",
       "2  Disneyland  Discount ticket<br />Ocean Park Di...   \n",
       "3  Amazing location on Wellington street in Centr...   \n",
       "4                                               None   \n",
       "\n",
       "                                         picture_url  host_id  ...  \\\n",
       "0  https://a0.muscache.com/pictures/119686/6ced58...    69063  ...   \n",
       "1  https://a0.muscache.com/pictures/2849554/d2262...   304876  ...   \n",
       "2  https://a0.muscache.com/pictures/f3913158-fa84...  4971086  ...   \n",
       "3  https://a0.muscache.com/pictures/9ade4292-c83a...  5100812  ...   \n",
       "4  https://a0.muscache.com/pictures/3ab4ff36-81de...  5100812  ...   \n",
       "\n",
       "  review_scores_communication review_scores_location review_scores_value  \\\n",
       "0                        4.93                    4.9                4.66   \n",
       "1                        4.51                   4.73                4.13   \n",
       "2                        4.85                   4.86                4.75   \n",
       "3                        4.72                   4.85                4.57   \n",
       "4                         5.0                    5.0                 5.0   \n",
       "\n",
       "  license instant_bookable calculated_host_listings_count  \\\n",
       "0    None                f                              1   \n",
       "1    None                f                             10   \n",
       "2    None                t                              2   \n",
       "3    None                f                              2   \n",
       "4    None                f                              2   \n",
       "\n",
       "  calculated_host_listings_count_entire_homes  \\\n",
       "0                                           1   \n",
       "1                                           6   \n",
       "2                                           2   \n",
       "3                                           1   \n",
       "4                                           1   \n",
       "\n",
       "  calculated_host_listings_count_private_rooms  \\\n",
       "0                                            0   \n",
       "1                                            4   \n",
       "2                                            0   \n",
       "3                                            1   \n",
       "4                                            1   \n",
       "\n",
       "  calculated_host_listings_count_shared_rooms reviews_per_month  \n",
       "0                                           0              0.47  \n",
       "1                                           0              1.05  \n",
       "2                                           0              3.03  \n",
       "3                                           0              0.61  \n",
       "4                                           0              0.04  \n",
       "\n",
       "[5 rows x 75 columns]"
      ]
     },
     "execution_count": 67,
     "metadata": {},
     "output_type": "execute_result"
    }
   ],
   "source": [
    "df.limit(5).toPandas()"
   ]
  },
  {
   "cell_type": "code",
   "execution_count": 18,
   "id": "dab06322",
   "metadata": {},
   "outputs": [
    {
     "data": {
      "text/plain": [
       "StructType([StructField('id', StringType(), True), StructField('listing_url', StringType(), True), StructField('scrape_id', StringType(), True), StructField('last_scraped', StringType(), True), StructField('source', StringType(), True), StructField('name', StringType(), True), StructField('description', StringType(), True), StructField('neighborhood_overview', StringType(), True), StructField('picture_url', StringType(), True), StructField('host_id', StringType(), True), StructField('host_url', StringType(), True), StructField('host_name', StringType(), True), StructField('host_since', StringType(), True), StructField('host_location', StringType(), True), StructField('host_about', StringType(), True), StructField('host_response_time', StringType(), True), StructField('host_response_rate', StringType(), True), StructField('host_acceptance_rate', StringType(), True), StructField('host_is_superhost', StringType(), True), StructField('host_thumbnail_url', StringType(), True), StructField('host_picture_url', StringType(), True), StructField('host_neighbourhood', StringType(), True), StructField('host_listings_count', StringType(), True), StructField('host_total_listings_count', StringType(), True), StructField('host_verifications', StringType(), True), StructField('host_has_profile_pic', StringType(), True), StructField('host_identity_verified', StringType(), True), StructField('neighbourhood', StringType(), True), StructField('neighbourhood_cleansed', StringType(), True), StructField('neighbourhood_group_cleansed', StringType(), True), StructField('latitude', StringType(), True), StructField('longitude', StringType(), True), StructField('property_type', StringType(), True), StructField('room_type', StringType(), True), StructField('accommodates', StringType(), True), StructField('bathrooms', StringType(), True), StructField('bathrooms_text', StringType(), True), StructField('bedrooms', StringType(), True), StructField('beds', StringType(), True), StructField('amenities', StringType(), True), StructField('price', StringType(), True), StructField('minimum_nights', StringType(), True), StructField('maximum_nights', StringType(), True), StructField('minimum_minimum_nights', StringType(), True), StructField('maximum_minimum_nights', StringType(), True), StructField('minimum_maximum_nights', StringType(), True), StructField('maximum_maximum_nights', StringType(), True), StructField('minimum_nights_avg_ntm', StringType(), True), StructField('maximum_nights_avg_ntm', StringType(), True), StructField('calendar_updated', StringType(), True), StructField('has_availability', StringType(), True), StructField('availability_30', StringType(), True), StructField('availability_60', StringType(), True), StructField('availability_90', StringType(), True), StructField('availability_365', StringType(), True), StructField('calendar_last_scraped', StringType(), True), StructField('number_of_reviews', StringType(), True), StructField('number_of_reviews_ltm', StringType(), True), StructField('number_of_reviews_l30d', StringType(), True), StructField('first_review', StringType(), True), StructField('last_review', StringType(), True), StructField('review_scores_rating', StringType(), True), StructField('review_scores_accuracy', StringType(), True), StructField('review_scores_cleanliness', StringType(), True), StructField('review_scores_checkin', StringType(), True), StructField('review_scores_communication', StringType(), True), StructField('review_scores_location', StringType(), True), StructField('review_scores_value', StringType(), True), StructField('license', StringType(), True), StructField('instant_bookable', StringType(), True), StructField('calculated_host_listings_count', StringType(), True), StructField('calculated_host_listings_count_entire_homes', StringType(), True), StructField('calculated_host_listings_count_private_rooms', StringType(), True), StructField('calculated_host_listings_count_shared_rooms', StringType(), True), StructField('reviews_per_month', StringType(), True)])"
      ]
     },
     "execution_count": 18,
     "metadata": {},
     "output_type": "execute_result"
    }
   ],
   "source": [
    "df.schema"
   ]
  },
  {
   "cell_type": "code",
   "execution_count": 11,
   "id": "8c33e9e1",
   "metadata": {},
   "outputs": [],
   "source": [
    "from pyspark.sql import types"
   ]
  },
  {
   "cell_type": "code",
   "execution_count": 12,
   "id": "a0a11e01",
   "metadata": {},
   "outputs": [],
   "source": [
    "hk_schema = types.StructType([\n",
    "    types.StructField('id', types.StringType(), True), \n",
    "    types.StructField('listing_url', types.StringType(), True), \n",
    "    types.StructField('scrape_id', types.StringType(), True), \n",
    "    types.StructField('last_scraped', types.StringType(), True), \n",
    "    types.StructField('source', types.StringType(), True), \n",
    "    types.StructField('name', types.StringType(), True), \n",
    "    types.StructField('description', types.StringType(), True), \n",
    "    types.StructField('neighborhood_overview', types.StringType(), True), \n",
    "    types.StructField('picture_url', types.StringType(), True), \n",
    "    types.StructField('host_id', types.StringType(), True), \n",
    "    types.StructField('host_url', types.StringType(), True), \n",
    "    types.StructField('host_name', types.StringType(), True), \n",
    "    types.StructField('host_since', types.StringType(), True), \n",
    "    types.StructField('host_location', types.StringType(), True), \n",
    "    types.StructField('host_about', types.StringType(), True), \n",
    "    types.StructField('host_response_time', types.StringType(), True), \n",
    "    types.StructField('host_response_rate', types.StringType(), True), \n",
    "    types.StructField('host_acceptance_rate', types.StringType(), True), \n",
    "    types.StructField('host_is_superhost', types.StringType(), True), \n",
    "    types.StructField('host_thumbnail_url', types.StringType(), True), \n",
    "    types.StructField('host_picture_url', types.StringType(), True), \n",
    "    types.StructField('host_neighbourhood', types.StringType(), True), \n",
    "    types.StructField('host_listings_count', types.StringType(), True), \n",
    "    types.StructField('host_total_listings_count', types.StringType(), True), \n",
    "    types.StructField('host_verifications', types.StringType(), True), \n",
    "    types.StructField('host_has_profile_pic', types.StringType(), True), \n",
    "    types.StructField('host_identity_verified', types.StringType(), True), \n",
    "    types.StructField('neighbourhood', types.StringType(), True), \n",
    "    types.StructField('neighbourhood_cleansed', types.StringType(), True), \n",
    "    types.StructField('neighbourhood_group_cleansed', types.StringType(), True), \n",
    "    types.StructField('latitude', types.StringType(), True), \n",
    "    types.StructField('longitude', types.StringType(), True), \n",
    "    types.StructField('property_type', types.StringType(), True), \n",
    "    types.StructField('room_type', types.StringType(), True), \n",
    "    types.StructField('accommodates', types.StringType(), True), \n",
    "    types.StructField('bathrooms', types.StringType(), True), \n",
    "    types.StructField('bathrooms_text', types.StringType(), True), \n",
    "    types.StructField('bedrooms', types.StringType(), True), \n",
    "    types.StructField('beds', types.StringType(), True), \n",
    "    types.StructField('amenities', types.StringType(), True), \n",
    "    types.StructField('price', types.StringType(), True), \n",
    "    types.StructField('minimum_nights', types.IntegerType(), True), \n",
    "    types.StructField('maximum_nights', types.IntegerType(), True), \n",
    "    types.StructField('minimum_minimum_nights', types.FloatType(), True), \n",
    "    types.StructField('maximum_minimum_nights', types.FloatType(), True), \n",
    "    types.StructField('minimum_maximum_nights', types.FloatType(), True), \n",
    "    types.StructField('maximum_maximum_nights', types.FloatType(), True), \n",
    "    types.StructField('minimum_nights_avg_ntm', types.FloatType(), True), \n",
    "    types.StructField('maximum_nights_avg_ntm', types.FloatType(), True), \n",
    "    types.StructField('calendar_updated', types.StringType(), True), \n",
    "    types.StructField('has_availability', types.StringType(), True), \n",
    "    types.StructField('availability_30', types.IntegerType(), True), \n",
    "    types.StructField('availability_60', types.IntegerType(), True), \n",
    "    types.StructField('availability_90', types.IntegerType(), True), \n",
    "    types.StructField('availability_365', types.IntegerType(), True), \n",
    "    types.StructField('calendar_last_scraped', types.StringType(), True), \n",
    "    types.StructField('number_of_reviews', types.IntegerType(), True), \n",
    "    types.StructField('number_of_reviews_ltm', types.IntegerType(), True), \n",
    "    types.StructField('number_of_reviews_l30d', types.IntegerType(), True), \n",
    "    types.StructField('first_review', types.StringType(), True), \n",
    "    types.StructField('last_review', types.StringType(), True), \n",
    "    types.StructField('review_scores_rating', types.FloatType(), True), \n",
    "    types.StructField('review_scores_accuracy', types.FloatType(), True), \n",
    "    types.StructField('review_scores_cleanliness', types.FloatType(), True), \n",
    "    types.StructField('review_scores_checkin', types.FloatType(), True), \n",
    "    types.StructField('review_scores_communication', types.FloatType(), True), \n",
    "    types.StructField('review_scores_location', types.FloatType(), True), \n",
    "    types.StructField('review_scores_value', types.FloatType(), True), \n",
    "    types.StructField('license', types.StringType(), True), \n",
    "    types.StructField('instant_bookable', types.StringType(), True), \n",
    "    types.StructField('calculated_host_listings_count', types.FloatType(), True), \n",
    "    types.StructField('calculated_host_listings_count_entire_homes', types.FloatType(), True), \n",
    "    types.StructField('calculated_host_listings_count_private_rooms', types.FloatType(), True), \n",
    "    types.StructField('calculated_host_listings_count_shared_rooms', types.FloatType(), True), \n",
    "    types.StructField('reviews_per_month', types.FloatType(), True)])"
   ]
  },
  {
   "cell_type": "code",
   "execution_count": 27,
   "id": "74a8f7c4",
   "metadata": {
    "scrolled": true
   },
   "outputs": [
    {
     "name": "stdout",
     "output_type": "stream",
     "text": [
      "processing data for 2022/3\n",
      "23/03/30 17:50:20 WARN CSVHeaderChecker: Number of column in CSV header is not equal to number of fields in the schema:\n",
      " Header length: 74, schema size: 75\n",
      "CSV file: file:///home/derekwong/dataengineering_zoomcamp2023/week7/data/raw/china/hk/hong-kong/2022/03/listings_20220321.csv.gz\n"
     ]
    },
    {
     "name": "stderr",
     "output_type": "stream",
     "text": [
      "                                                                                \r"
     ]
    },
    {
     "name": "stdout",
     "output_type": "stream",
     "text": [
      "processing data for 2022/6\n",
      "23/03/30 17:50:24 WARN CSVHeaderChecker: Number of column in CSV header is not equal to number of fields in the schema:\n",
      " Header length: 74, schema size: 75\n",
      "CSV file: file:///home/derekwong/dataengineering_zoomcamp2023/week7/data/raw/china/hk/hong-kong/2022/06/listings_20220614.csv.gz\n"
     ]
    },
    {
     "name": "stderr",
     "output_type": "stream",
     "text": [
      "                                                                                \r"
     ]
    },
    {
     "name": "stdout",
     "output_type": "stream",
     "text": [
      "processing data for 2022/9\n"
     ]
    },
    {
     "name": "stderr",
     "output_type": "stream",
     "text": [
      "                                                                                \r"
     ]
    },
    {
     "name": "stdout",
     "output_type": "stream",
     "text": [
      "processing data for 2022/12\n"
     ]
    },
    {
     "name": "stderr",
     "output_type": "stream",
     "text": [
      "                                                                                \r"
     ]
    }
   ],
   "source": [
    "year = 2022\n",
    "\n",
    "for month in range(3, 13, 3):\n",
    "    print(f'processing data for {year}/{month}')\n",
    "\n",
    "    input_path = f'data/raw/china/hk/hong-kong/{year}/{month:02d}/'\n",
    "    output_path = f'data/pq/china/hk/hong-kong/{year}/{month:02d}/'\n",
    "\n",
    "    df_hk = spark.read \\\n",
    "        .option(\"header\", \"true\") \\\n",
    "        .schema(hk_schema) \\\n",
    "        .csv(input_path)\n",
    "\n",
    "    df_hk \\\n",
    "        .repartition(1) \\\n",
    "        .write.parquet(output_path, mode='overwrite')"
   ]
  },
  {
   "cell_type": "code",
   "execution_count": 41,
   "id": "d209615e",
   "metadata": {},
   "outputs": [],
   "source": [
    "df_all = spark.read.parquet('data/pq/china/hk/hong-kong/2022/12/')"
   ]
  },
  {
   "cell_type": "code",
   "execution_count": 68,
   "id": "b9401fe8",
   "metadata": {},
   "outputs": [
    {
     "data": {
      "text/plain": [
       "Row(id='17891', listing_url='https://www.airbnb.com/rooms/17891', scrape_id='20221223064914', last_scraped='2022-12-23', source='previous scrape', name='Large Light Filled Loft', description=\"Gorgeous and spacious loft, in the best location. Also available for Commercial Shoots and Longer term rentals.<br /><br /><b>The space</b><br />The apartment has been featured on the cover of numerous Design Magazines, and is listed as one of Airbnb's Top 40 Rentals Worldwide. <br /><br />Longer Term / Monthly rates available. <br />Also available for Commercial Shoots, inquire for day rates. <br /><br />Large & light-filled, designer open floor plan (800 sqf), fully furnished, with ultra-modern, open kitchen , available for short & long term. <br /><br />Includes:<br />- full kitchen (stove top, oven)<br />- fully equipped workstation with wi-fi & printer<br />- balcony & large windows<br />- queen size bed<br />- walk-in wardrobe<br />- 10 ft dining table perfect for entertaining<br />- polished concrete floors<br />- walk-in rain shower<br />- fresh towels & linens <br /><br />Check In Time: 3pm<br />Check Out Time: 12noon<br /><br /><br />Location:<br />The flat is between SOHO an\", neighborhood_overview='Best neighborhood in Hong Kong! A mix of old and new.', picture_url='https://a0.muscache.com/pictures/119686/6ced58c4_original.jpg', host_id='69063', host_url='https://www.airbnb.com/users/show/69063', host_name='Candace', host_since='2010-01-09', host_location='Los Angeles, CA', host_about='Hi, my name is Candace Campos. I love urban living, remote destinations and everything in between. I’ve hosted so many amazing guests in my Hong Kong Loft and am looking forward to doing the same at my Desert Retreat. ', host_response_time='N/A', host_response_rate='N/A', host_acceptance_rate='N/A', host_is_superhost='f', host_thumbnail_url='https://a0.muscache.com/im/pictures/user/b439cf98-b81c-4555-bb1c-384cf45fe320.jpg?aki_policy=profile_small', host_picture_url='https://a0.muscache.com/im/pictures/user/b439cf98-b81c-4555-bb1c-384cf45fe320.jpg?aki_policy=profile_x_medium', host_neighbourhood='Sheung Wan', host_listings_count='1', host_total_listings_count='2', host_verifications=\"['phone', 'work_email']\", host_has_profile_pic='t', host_identity_verified='t', neighbourhood='Hong Kong Island, Hong Kong', neighbourhood_cleansed='Central & Western', neighbourhood_group_cleansed=None, latitude='22.28327', longitude='114.14988', property_type='Entire rental unit', room_type='Entire home/apt', accommodates='3', bathrooms=None, bathrooms_text='1 bath', bedrooms=None, beds='1', amenities='\"[\"\"Pets allowed\"\"', price=' \"\"Fire pit\"\"', minimum_nights=None, maximum_nights=None, minimum_minimum_nights=None, maximum_minimum_nights=None, minimum_maximum_nights=None, maximum_maximum_nights=None, minimum_nights_avg_ntm=None, maximum_nights_avg_ntm=None, calendar_updated=' \"\"Kitchen\"\"', has_availability=' \"\"Dedicated workspace\"\"', availability_30=None, availability_60=None, availability_90=60, availability_365=365, calendar_last_scraped='60', number_of_reviews=60, number_of_reviews_ltm=365, number_of_reviews_l30d=365, first_review='60.0', last_review='365.0', review_scores_rating=None, review_scores_accuracy=None, review_scores_cleanliness=0.0, review_scores_checkin=0.0, review_scores_communication=0.0, review_scores_location=0.0, review_scores_value=None, license='73', instant_bookable='0', calculated_host_listings_count=0.0, calculated_host_listings_count_entire_homes=None, calculated_host_listings_count_private_rooms=None, calculated_host_listings_count_shared_rooms=4.760000228881836, reviews_per_month=4.730000019073486)"
      ]
     },
     "execution_count": 68,
     "metadata": {},
     "output_type": "execute_result"
    }
   ],
   "source": [
    "df_all.head()"
   ]
  }
 ],
 "metadata": {
  "kernelspec": {
   "display_name": "Python 3 (ipykernel)",
   "language": "python",
   "name": "python3"
  },
  "language_info": {
   "codemirror_mode": {
    "name": "ipython",
    "version": 3
   },
   "file_extension": ".py",
   "mimetype": "text/x-python",
   "name": "python",
   "nbconvert_exporter": "python",
   "pygments_lexer": "ipython3",
   "version": "3.10.6"
  }
 },
 "nbformat": 4,
 "nbformat_minor": 5
}
