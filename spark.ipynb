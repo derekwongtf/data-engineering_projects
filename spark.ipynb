{
 "cells": [
  {
   "cell_type": "code",
   "execution_count": 2,
   "id": "c7ce842d",
   "metadata": {},
   "outputs": [],
   "source": [
    "import pyspark"
   ]
  },
  {
   "cell_type": "code",
   "execution_count": 3,
   "id": "4c1e7561",
   "metadata": {},
   "outputs": [],
   "source": [
    "from pyspark.sql import SparkSession"
   ]
  },
  {
   "cell_type": "code",
   "execution_count": 4,
   "id": "c4ce684c",
   "metadata": {},
   "outputs": [
    {
     "name": "stdout",
     "output_type": "stream",
     "text": [
      "23/03/31 11:37:30 WARN Utils: Your hostname, DavidNg-8242-NB resolves to a loopback address: 127.0.1.1; using 172.24.225.125 instead (on interface eth0)\n",
      "23/03/31 11:37:30 WARN Utils: Set SPARK_LOCAL_IP if you need to bind to another address\n"
     ]
    },
    {
     "name": "stderr",
     "output_type": "stream",
     "text": [
      "Setting default log level to \"WARN\".\n",
      "To adjust logging level use sc.setLogLevel(newLevel). For SparkR, use setLogLevel(newLevel).\n"
     ]
    },
    {
     "name": "stdout",
     "output_type": "stream",
     "text": [
      "23/03/31 11:37:32 WARN NativeCodeLoader: Unable to load native-hadoop library for your platform... using builtin-java classes where applicable\n"
     ]
    }
   ],
   "source": [
    "spark = SparkSession.builder \\\n",
    "    .master(\"local[*]\") \\\n",
    "    .appName('test') \\\n",
    "    .getOrCreate()"
   ]
  },
  {
   "cell_type": "code",
   "execution_count": 48,
   "id": "74a8f7c4",
   "metadata": {
    "scrolled": true
   },
   "outputs": [
    {
     "name": "stdout",
     "output_type": "stream",
     "text": [
      "processing data for 2022/3\n"
     ]
    },
    {
     "name": "stderr",
     "output_type": "stream",
     "text": [
      "                                                                                \r"
     ]
    },
    {
     "name": "stdout",
     "output_type": "stream",
     "text": [
      "processing data for 2022/6\n"
     ]
    },
    {
     "name": "stderr",
     "output_type": "stream",
     "text": [
      "                                                                                \r"
     ]
    },
    {
     "name": "stdout",
     "output_type": "stream",
     "text": [
      "processing data for 2022/9\n",
      "processing data for 2022/12\n"
     ]
    }
   ],
   "source": [
    "year = 2022\n",
    "\n",
    "for month in range(3, 13, 3):\n",
    "    print(f'processing data for {year}/{month}')\n",
    "\n",
    "    input_path = f'data/raw/china/hk/hong-kong/{year}/{month:02d}/'\n",
    "    output_path = f'data/pq/china/hk/hong-kong/{year}/{month:02d}/'\n",
    "\n",
    "    df_hk = spark.read \\\n",
    "        .option(\"header\", \"true\") \\\n",
    "        .option(\"inferSchema\", \"true\") \\\n",
    "        .option(\"multiline\", \"true\") \\\n",
    "        .option(\"escape\", \"\\\"\") \\\n",
    "        .csv(input_path)\n",
    "\n",
    "    df_hk \\\n",
    "        .repartition(1) \\\n",
    "        .write.parquet(output_path, mode='overwrite')"
   ]
  },
  {
   "cell_type": "code",
   "execution_count": 49,
   "id": "d209615e",
   "metadata": {},
   "outputs": [],
   "source": [
    "df = spark.read.parquet('data/pq/china/hk/hong-kong/2022/12/')"
   ]
  },
  {
   "cell_type": "code",
   "execution_count": 51,
   "id": "b9401fe8",
   "metadata": {
    "scrolled": true
   },
   "outputs": [
    {
     "data": {
      "text/plain": [
       "['id',\n",
       " 'listing_url',\n",
       " 'scrape_id',\n",
       " 'last_scraped',\n",
       " 'source',\n",
       " 'name',\n",
       " 'description',\n",
       " 'neighborhood_overview',\n",
       " 'picture_url',\n",
       " 'host_id',\n",
       " 'host_url',\n",
       " 'host_name',\n",
       " 'host_since',\n",
       " 'host_location',\n",
       " 'host_about',\n",
       " 'host_response_time',\n",
       " 'host_response_rate',\n",
       " 'host_acceptance_rate',\n",
       " 'host_is_superhost',\n",
       " 'host_thumbnail_url',\n",
       " 'host_picture_url',\n",
       " 'host_neighbourhood',\n",
       " 'host_listings_count',\n",
       " 'host_total_listings_count',\n",
       " 'host_verifications',\n",
       " 'host_has_profile_pic',\n",
       " 'host_identity_verified',\n",
       " 'neighbourhood',\n",
       " 'neighbourhood_cleansed',\n",
       " 'neighbourhood_group_cleansed',\n",
       " 'latitude',\n",
       " 'longitude',\n",
       " 'property_type',\n",
       " 'room_type',\n",
       " 'accommodates',\n",
       " 'bathrooms',\n",
       " 'bathrooms_text',\n",
       " 'bedrooms',\n",
       " 'beds',\n",
       " 'amenities',\n",
       " 'price',\n",
       " 'minimum_nights',\n",
       " 'maximum_nights',\n",
       " 'minimum_minimum_nights',\n",
       " 'maximum_minimum_nights',\n",
       " 'minimum_maximum_nights',\n",
       " 'maximum_maximum_nights',\n",
       " 'minimum_nights_avg_ntm',\n",
       " 'maximum_nights_avg_ntm',\n",
       " 'calendar_updated',\n",
       " 'has_availability',\n",
       " 'availability_30',\n",
       " 'availability_60',\n",
       " 'availability_90',\n",
       " 'availability_365',\n",
       " 'calendar_last_scraped',\n",
       " 'number_of_reviews',\n",
       " 'number_of_reviews_ltm',\n",
       " 'number_of_reviews_l30d',\n",
       " 'first_review',\n",
       " 'last_review',\n",
       " 'review_scores_rating',\n",
       " 'review_scores_accuracy',\n",
       " 'review_scores_cleanliness',\n",
       " 'review_scores_checkin',\n",
       " 'review_scores_communication',\n",
       " 'review_scores_location',\n",
       " 'review_scores_value',\n",
       " 'license',\n",
       " 'instant_bookable',\n",
       " 'calculated_host_listings_count',\n",
       " 'calculated_host_listings_count_entire_homes',\n",
       " 'calculated_host_listings_count_private_rooms',\n",
       " 'calculated_host_listings_count_shared_rooms',\n",
       " 'reviews_per_month']"
      ]
     },
     "execution_count": 51,
     "metadata": {},
     "output_type": "execute_result"
    }
   ],
   "source": [
    "df.columns"
   ]
  },
  {
   "cell_type": "code",
   "execution_count": 52,
   "id": "9c845df5",
   "metadata": {},
   "outputs": [],
   "source": [
    "df.createOrReplaceTempView('hk_data')"
   ]
  },
  {
   "cell_type": "code",
   "execution_count": 66,
   "id": "d3b614cf",
   "metadata": {},
   "outputs": [
    {
     "name": "stdout",
     "output_type": "stream",
     "text": [
      "+---------------+---------------+---------------+----------------+----------------------+--------------------+---------------+------------+---------+\n",
      "|availability_30|availability_60|availability_90|availability_365|neighbourhood_cleansed|       property_type|      room_type|accommodates|    price|\n",
      "+---------------+---------------+---------------+----------------+----------------------+--------------------+---------------+------------+---------+\n",
      "|             29|             59|             89|             364|     Central & Western|        Entire condo|Entire home/apt|           2|  $709.00|\n",
      "|             23|             53|             79|              79|     Central & Western|  Entire rental unit|Entire home/apt|           3|  $546.00|\n",
      "|             30|             60|             90|             365|         Yau Tsim Mong|Shared room in ho...|    Shared room|           1|  $180.00|\n",
      "|             30|             60|             90|             365|     Central & Western|Private room in r...|   Private room|           1|  $180.00|\n",
      "|             17|             47|             77|              77|               Islands|  Entire rental unit|Entire home/apt|           3|$1,057.00|\n",
      "|             30|             60|             90|             365|              Wan Chai|Private room in r...|   Private room|           1|  $180.00|\n",
      "|             30|             60|             90|             365|              Wan Chai|Private room in r...|   Private room|           1|  $180.00|\n",
      "|             30|             60|             90|             365|              Wan Chai|Private room in r...|   Private room|           2|  $180.00|\n",
      "|             30|             60|             90|             365|               Eastern|Private room in r...|   Private room|           1|  $180.00|\n",
      "|             15|             25|             33|             294|     Central & Western|  Entire rental unit|Entire home/apt|           2|  $702.00|\n",
      "|             29|             59|             89|             364|              Wan Chai|Private room in r...|   Private room|           1|  $180.00|\n",
      "|             30|             60|             90|             365|         Yau Tsim Mong|Private room in r...|   Private room|           1|  $180.00|\n",
      "|             22|             52|             82|             357|     Central & Western|Private room in r...|   Private room|           1|  $180.00|\n",
      "|             18|             48|             48|              48|     Central & Western|  Entire rental unit|Entire home/apt|           2|$1,013.00|\n",
      "|             30|             60|             90|             365|     Central & Western|Private room in r...|   Private room|           1|  $180.00|\n",
      "|             30|             60|             90|             365|     Central & Western|Private room in r...|   Private room|           1|  $180.00|\n",
      "|             29|             59|             89|             364|     Central & Western|Private room in r...|   Private room|           1|  $180.00|\n",
      "|             30|             60|             90|             365|          Sham Shui Po|Private room in r...|   Private room|           2|  $217.00|\n",
      "|             30|             60|             90|             365|          Sham Shui Po|Private room in r...|   Private room|           1|  $180.00|\n",
      "|             29|             59|             89|             364|         Yau Tsim Mong|Private room in r...|   Private room|           1|  $180.00|\n",
      "+---------------+---------------+---------------+----------------+----------------------+--------------------+---------------+------------+---------+\n",
      "only showing top 20 rows\n",
      "\n"
     ]
    }
   ],
   "source": [
    "spark.sql(\"\"\"\n",
    "SELECT\n",
    "availability_30,\n",
    "availability_60,\n",
    "availability_90,\n",
    "availability_365,\n",
    "neighbourhood_cleansed,\n",
    "property_type,\n",
    "room_type,\n",
    "accommodates,\n",
    "price\n",
    "FROM\n",
    "    hk_data\n",
    "WHERE\n",
    "    availability_30>0\n",
    "\"\"\").show()"
   ]
  }
 ],
 "metadata": {
  "kernelspec": {
   "display_name": "Python 3 (ipykernel)",
   "language": "python",
   "name": "python3"
  },
  "language_info": {
   "codemirror_mode": {
    "name": "ipython",
    "version": 3
   },
   "file_extension": ".py",
   "mimetype": "text/x-python",
   "name": "python",
   "nbconvert_exporter": "python",
   "pygments_lexer": "ipython3",
   "version": "3.10.6"
  }
 },
 "nbformat": 4,
 "nbformat_minor": 5
}
