{
 "cells": [
  {
   "cell_type": "code",
   "execution_count": 1,
   "id": "c7ce842d",
   "metadata": {},
   "outputs": [],
   "source": [
    "import pyspark"
   ]
  },
  {
   "cell_type": "code",
   "execution_count": 2,
   "id": "4c1e7561",
   "metadata": {},
   "outputs": [],
   "source": [
    "from pyspark.sql import SparkSession"
   ]
  },
  {
   "cell_type": "code",
   "execution_count": 3,
   "id": "c33a862b",
   "metadata": {},
   "outputs": [],
   "source": [
    "from pyspark.conf import SparkConf\n",
    "from pyspark.context import SparkContext"
   ]
  },
  {
   "cell_type": "code",
   "execution_count": 4,
   "id": "f7df5395",
   "metadata": {},
   "outputs": [],
   "source": [
    "credentials_location = '/home/derekwong/.gc/de-project-service_account-credential.json'\n",
    "\n",
    "conf = SparkConf() \\\n",
    "    .setMaster('local[*]') \\\n",
    "    .setAppName('test') \\\n",
    "    .set(\"spark.jars\", \"./lib/gcs-connector-hadoop3-2.2.5.jar\") \\\n",
    "    .set(\"spark.hadoop.google.cloud.auth.service.account.enable\", \"true\") \\\n",
    "    .set(\"spark.hadoop.google.cloud.auth.service.account.json.keyfile\", credentials_location)"
   ]
  },
  {
   "cell_type": "code",
   "execution_count": 5,
   "id": "7b1d1b00",
   "metadata": {},
   "outputs": [
    {
     "name": "stdout",
     "output_type": "stream",
     "text": [
      "23/04/04 17:20:40 WARN Utils: Your hostname, DavidNg-8242-NB resolves to a loopback address: 127.0.1.1; using 172.24.225.125 instead (on interface eth0)\n",
      "23/04/04 17:20:40 WARN Utils: Set SPARK_LOCAL_IP if you need to bind to another address\n",
      "23/04/04 17:20:42 WARN NativeCodeLoader: Unable to load native-hadoop library for your platform... using builtin-java classes where applicable\n"
     ]
    },
    {
     "name": "stderr",
     "output_type": "stream",
     "text": [
      "Setting default log level to \"WARN\".\n",
      "To adjust logging level use sc.setLogLevel(newLevel). For SparkR, use setLogLevel(newLevel).\n"
     ]
    }
   ],
   "source": [
    "sc = SparkContext(conf=conf)\n",
    "\n",
    "hadoop_conf = sc._jsc.hadoopConfiguration()\n",
    "\n",
    "hadoop_conf.set(\"fs.AbstractFileSystem.gs.impl\",  \"com.google.cloud.hadoop.fs.gcs.GoogleHadoopFS\")\n",
    "hadoop_conf.set(\"fs.gs.impl\", \"com.google.cloud.hadoop.fs.gcs.GoogleHadoopFileSystem\")\n",
    "hadoop_conf.set(\"fs.gs.auth.service.account.json.keyfile\", credentials_location)\n",
    "hadoop_conf.set(\"fs.gs.auth.service.account.enable\", \"true\")"
   ]
  },
  {
   "cell_type": "code",
   "execution_count": 6,
   "id": "c4ce684c",
   "metadata": {},
   "outputs": [],
   "source": [
    "spark = SparkSession.builder \\\n",
    "    .config(conf=sc.getConf()) \\\n",
    "    .getOrCreate()"
   ]
  },
  {
   "cell_type": "code",
   "execution_count": 12,
   "id": "b1938b24",
   "metadata": {},
   "outputs": [],
   "source": [
    "df_202203 = spark.read.parquet('gs://dtc_data_lake_de-project-381616/pq/china/hk/hong-kong/2022/03/*')"
   ]
  },
  {
   "cell_type": "code",
   "execution_count": 11,
   "id": "af7ab3bf",
   "metadata": {},
   "outputs": [
    {
     "name": "stderr",
     "output_type": "stream",
     "text": [
      "                                                                                \r"
     ]
    }
   ],
   "source": [
    "df_202206 = spark.read.parquet('gs://dtc_data_lake_de-project-381616/pq/china/hk/hong-kong/2022/06/*')"
   ]
  },
  {
   "cell_type": "code",
   "execution_count": 23,
   "id": "ab5fc500",
   "metadata": {},
   "outputs": [
    {
     "name": "stderr",
     "output_type": "stream",
     "text": [
      "\r",
      "[Stage 9:>                                                          (0 + 1) / 1]\r",
      "\r",
      "                                                                                \r"
     ]
    }
   ],
   "source": [
    "df_202209 = spark.read.parquet('gs://dtc_data_lake_de-project-381616/pq/china/hk/hong-kong/2022/09/*')"
   ]
  },
  {
   "cell_type": "code",
   "execution_count": 24,
   "id": "34eecba7",
   "metadata": {
    "scrolled": true
   },
   "outputs": [],
   "source": [
    "df_202212 = spark.read.parquet('gs://dtc_data_lake_de-project-381616/pq/china/hk/hong-kong/2022/12/*')"
   ]
  },
  {
   "cell_type": "code",
   "execution_count": 13,
   "id": "9ce9c4ff",
   "metadata": {},
   "outputs": [],
   "source": [
    "import pyspark.sql.functions as F"
   ]
  },
  {
   "cell_type": "code",
   "execution_count": 14,
   "id": "26a8d5e8",
   "metadata": {},
   "outputs": [],
   "source": [
    "df_202203 = df_202203 \\\n",
    "    .withColumn('source_date', F.lit('202203'))"
   ]
  },
  {
   "cell_type": "code",
   "execution_count": 25,
   "id": "b69b606f",
   "metadata": {},
   "outputs": [],
   "source": [
    "df_202206 = df_202206 \\\n",
    "    .withColumn('source_date', F.lit('202206'))"
   ]
  },
  {
   "cell_type": "code",
   "execution_count": 26,
   "id": "2c1406c6",
   "metadata": {},
   "outputs": [],
   "source": [
    "df_202209 = df_202209 \\\n",
    "    .withColumn('source_date', F.lit('202209'))"
   ]
  },
  {
   "cell_type": "code",
   "execution_count": 27,
   "id": "c852cf98",
   "metadata": {},
   "outputs": [],
   "source": [
    "df_202212 = df_202212 \\\n",
    "    .withColumn('source_date', F.lit('202212'))"
   ]
  },
  {
   "cell_type": "code",
   "execution_count": 20,
   "id": "2fae3a8e",
   "metadata": {},
   "outputs": [
    {
     "data": {
      "text/plain": [
       "['id',\n",
       " 'listing_url',\n",
       " 'scrape_id',\n",
       " 'last_scraped',\n",
       " 'name',\n",
       " 'description',\n",
       " 'neighborhood_overview',\n",
       " 'picture_url',\n",
       " 'host_id',\n",
       " 'host_url',\n",
       " 'host_name',\n",
       " 'host_since',\n",
       " 'host_location',\n",
       " 'host_about',\n",
       " 'host_response_time',\n",
       " 'host_response_rate',\n",
       " 'host_acceptance_rate',\n",
       " 'host_is_superhost',\n",
       " 'host_thumbnail_url',\n",
       " 'host_picture_url',\n",
       " 'host_neighbourhood',\n",
       " 'host_listings_count',\n",
       " 'host_total_listings_count',\n",
       " 'host_verifications',\n",
       " 'host_has_profile_pic',\n",
       " 'host_identity_verified',\n",
       " 'neighbourhood',\n",
       " 'neighbourhood_cleansed',\n",
       " 'neighbourhood_group_cleansed',\n",
       " 'latitude',\n",
       " 'longitude',\n",
       " 'property_type',\n",
       " 'room_type',\n",
       " 'accommodates',\n",
       " 'bathrooms',\n",
       " 'bathrooms_text',\n",
       " 'bedrooms',\n",
       " 'beds',\n",
       " 'amenities',\n",
       " 'price',\n",
       " 'minimum_nights',\n",
       " 'maximum_nights',\n",
       " 'minimum_minimum_nights',\n",
       " 'maximum_minimum_nights',\n",
       " 'minimum_maximum_nights',\n",
       " 'maximum_maximum_nights',\n",
       " 'minimum_nights_avg_ntm',\n",
       " 'maximum_nights_avg_ntm',\n",
       " 'calendar_updated',\n",
       " 'has_availability',\n",
       " 'availability_30',\n",
       " 'availability_60',\n",
       " 'availability_90',\n",
       " 'availability_365',\n",
       " 'calendar_last_scraped',\n",
       " 'number_of_reviews',\n",
       " 'number_of_reviews_ltm',\n",
       " 'number_of_reviews_l30d',\n",
       " 'first_review',\n",
       " 'last_review',\n",
       " 'review_scores_rating',\n",
       " 'review_scores_accuracy',\n",
       " 'review_scores_cleanliness',\n",
       " 'review_scores_checkin',\n",
       " 'review_scores_communication',\n",
       " 'review_scores_location',\n",
       " 'review_scores_value',\n",
       " 'license',\n",
       " 'instant_bookable',\n",
       " 'calculated_host_listings_count',\n",
       " 'calculated_host_listings_count_entire_homes',\n",
       " 'calculated_host_listings_count_private_rooms',\n",
       " 'calculated_host_listings_count_shared_rooms',\n",
       " 'reviews_per_month',\n",
       " 'source_date']"
      ]
     },
     "execution_count": 20,
     "metadata": {},
     "output_type": "execute_result"
    }
   ],
   "source": [
    "df_202206.columns"
   ]
  },
  {
   "cell_type": "code",
   "execution_count": 37,
   "id": "63807a9a",
   "metadata": {},
   "outputs": [],
   "source": [
    "df = df_202203.unionByName(df_202206, allowMissingColumns=True)"
   ]
  },
  {
   "cell_type": "code",
   "execution_count": 40,
   "id": "8977b01f",
   "metadata": {},
   "outputs": [],
   "source": [
    "df = df.unionByName(df_202209, allowMissingColumns=True)"
   ]
  },
  {
   "cell_type": "code",
   "execution_count": 42,
   "id": "2324bb99",
   "metadata": {},
   "outputs": [],
   "source": [
    "df = df.unionByName(df_202212, allowMissingColumns=True)"
   ]
  },
  {
   "cell_type": "code",
   "execution_count": 43,
   "id": "d3b7a397",
   "metadata": {},
   "outputs": [
    {
     "name": "stderr",
     "output_type": "stream",
     "text": [
      "                                                                                \r"
     ]
    },
    {
     "data": {
      "text/plain": [
       "23963"
      ]
     },
     "execution_count": 43,
     "metadata": {},
     "output_type": "execute_result"
    }
   ],
   "source": [
    "df.count()"
   ]
  },
  {
   "cell_type": "code",
   "execution_count": 44,
   "id": "66e5c311",
   "metadata": {},
   "outputs": [],
   "source": [
    "df = df.withColumn('price_in_numbers', F.regexp_replace('price', '[$,]', '').cast('double'))"
   ]
  },
  {
   "cell_type": "code",
   "execution_count": 45,
   "id": "9c845df5",
   "metadata": {},
   "outputs": [],
   "source": [
    "df.createOrReplaceTempView('hk_data')"
   ]
  },
  {
   "cell_type": "code",
   "execution_count": 46,
   "id": "90fae7c9",
   "metadata": {},
   "outputs": [
    {
     "name": "stderr",
     "output_type": "stream",
     "text": [
      "[Stage 34:==============================================>           (4 + 1) / 5]\r"
     ]
    },
    {
     "name": "stdout",
     "output_type": "stream",
     "text": [
      "+-----------+--------+\n",
      "|source_date|count(1)|\n",
      "+-----------+--------+\n",
      "|     202203|    6092|\n",
      "|     202206|    7620|\n",
      "|     202209|    5057|\n",
      "|     202212|    5194|\n",
      "+-----------+--------+\n",
      "\n"
     ]
    },
    {
     "name": "stderr",
     "output_type": "stream",
     "text": [
      "\r",
      "                                                                                \r"
     ]
    }
   ],
   "source": [
    "spark.sql(\"\"\"\n",
    "SELECT\n",
    "source_date,\n",
    "count(1)\n",
    "FROM\n",
    "    hk_data\n",
    "Group by \n",
    "source_date\n",
    "\"\"\").show()"
   ]
  },
  {
   "cell_type": "code",
   "execution_count": null,
   "id": "d0a924ac",
   "metadata": {},
   "outputs": [],
   "source": [
    "spark.sql(\"\"\"\n",
    "SELECT\n",
    "price,\n",
    "price_in_numbers\n",
    "FROM\n",
    "    hk_data\n",
    "WHERE\n",
    "    availability_30>0\n",
    "\"\"\").show()"
   ]
  },
  {
   "cell_type": "code",
   "execution_count": 47,
   "id": "d3b614cf",
   "metadata": {
    "scrolled": true
   },
   "outputs": [
    {
     "name": "stderr",
     "output_type": "stream",
     "text": [
      "[Stage 37:==============================================>           (4 + 1) / 5]\r"
     ]
    },
    {
     "name": "stdout",
     "output_type": "stream",
     "text": [
      "+----------------------+---------------+--------------------+--------------------+------------------+----------+\n",
      "|neighbourhood_cleansed|      room_type|avg(availability_30)|avg(availability_60)| avg(accommodates)|avg(price)|\n",
      "+----------------------+---------------+--------------------+--------------------+------------------+----------+\n",
      "|          Sham Shui Po|     Hotel room|                23.0|               52.25|               2.0|      null|\n",
      "|          Wong Tai Sin|    Shared room|                29.0|                59.0|               1.0|      null|\n",
      "|          Wong Tai Sin|Entire home/apt|  16.333333333333332|   42.44444444444444| 3.888888888888889|      null|\n",
      "|          Sham Shui Po|    Shared room|   28.38888888888889|   57.55555555555556|1.4722222222222223|      null|\n",
      "|     Central & Western|Entire home/apt|  21.411246612466126|  46.076558265582655|2.4905149051490514|      null|\n",
      "|              Wan Chai|    Shared room|   28.88135593220339|   58.66101694915254|               4.6|      null|\n",
      "|          Kowloon City|    Shared room|   28.81967213114754|   58.75409836065574|2.3114754098360657|      null|\n",
      "|             Kwun Tong|Entire home/apt|               22.75|  49.333333333333336| 5.708333333333333|      null|\n",
      "|             Yuen Long|Entire home/apt|  22.300411522633745|   40.97942386831276| 3.220164609053498|      null|\n",
      "|             Kwun Tong|    Shared room|  27.333333333333332|  57.333333333333336|1.6666666666666667|      null|\n",
      "|          Kowloon City|   Private room|   28.19493670886076|    57.8253164556962|1.6734177215189874|      null|\n",
      "|              Wan Chai|   Private room|  27.689782519491178|   56.61592121460812|1.6368485843249898|      null|\n",
      "|               Sha Tin|    Shared room|                25.0|  54.714285714285715|1.7142857142857142|      null|\n",
      "|                 North|   Private room|   20.26219512195122|  39.103658536585364|2.4115853658536586|      null|\n",
      "|              Southern|   Private room|  24.166666666666668|  51.958333333333336|2.1666666666666665|      null|\n",
      "|               Sha Tin|Entire home/apt|   22.81578947368421|   47.81578947368421| 3.710526315789474|      null|\n",
      "|              Sai Kung|   Private room|  24.586466165413533|   52.59398496240601|1.8571428571428572|      null|\n",
      "|               Eastern|   Private room|   27.82585751978892|   57.09498680738786|1.5936675461741425|      null|\n",
      "|               Islands|Entire home/apt|   18.58953168044077|  40.315426997245176|4.2782369146005506|      null|\n",
      "|             Yuen Long|    Shared room|  19.928571428571427|   42.07142857142857|4.4523809523809526|      null|\n",
      "+----------------------+---------------+--------------------+--------------------+------------------+----------+\n",
      "only showing top 20 rows\n",
      "\n"
     ]
    },
    {
     "name": "stderr",
     "output_type": "stream",
     "text": [
      "\r",
      "                                                                                \r"
     ]
    }
   ],
   "source": [
    "spark.sql(\"\"\"\n",
    "SELECT\n",
    "neighbourhood_cleansed,\n",
    "room_type,\n",
    "avg(availability_30),\n",
    "avg(availability_60),\n",
    "avg(accommodates),\n",
    "avg(price)\n",
    "FROM\n",
    "    hk_data\n",
    "WHERE\n",
    "    availability_30>0\n",
    "group by neighbourhood_cleansed,room_type\n",
    "\"\"\").show()"
   ]
  }
 ],
 "metadata": {
  "kernelspec": {
   "display_name": "Python 3 (ipykernel)",
   "language": "python",
   "name": "python3"
  },
  "language_info": {
   "codemirror_mode": {
    "name": "ipython",
    "version": 3
   },
   "file_extension": ".py",
   "mimetype": "text/x-python",
   "name": "python",
   "nbconvert_exporter": "python",
   "pygments_lexer": "ipython3",
   "version": "3.10.6"
  }
 },
 "nbformat": 4,
 "nbformat_minor": 5
}
